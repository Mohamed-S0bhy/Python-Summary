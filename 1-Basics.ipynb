{
 "cells": [
  {
   "cell_type": "markdown",
   "id": "14ba972f-572f-4b99-af8c-cfd9316dff3e",
   "metadata": {},
   "source": [
    "# Basics"
   ]
  },
  {
   "cell_type": "markdown",
   "id": "41d3ec48-ed35-4d78-a166-e22fdf93ece8",
   "metadata": {},
   "source": [
    "<div style=\"background-color: #e6f7ff; border-left: 6px solid #007bff; padding: 10px; border-radius: 3px; box-shadow: 0 2px 4px rgba(0,0,0,0.1);\">\n",
    "    <strong style=\"color: #007bff;\">Creating Variables</strong>\n",
    "</div>\n"
   ]
  },
  {
   "cell_type": "code",
   "execution_count": 7,
   "id": "b9e6eeba-5c46-4d7f-85ca-9f485adbfc15",
   "metadata": {},
   "outputs": [
    {
     "name": "stdout",
     "output_type": "stream",
     "text": [
      "5 1 2\n",
      "apple banana\n"
     ]
    }
   ],
   "source": [
    "a = 5\n",
    "b , c = 1 ,2 \n",
    "fruit = [\"apple\",\"banana\"]\n",
    "x , y =fruit\n",
    "print(a,b,c)\n",
    "print(x,y)"
   ]
  },
  {
   "cell_type": "markdown",
   "id": "58f68da8-3450-40ac-a99a-6f2013796dc7",
   "metadata": {},
   "source": [
    "<div style=\"background-color: #e6f7ff; border-left: 6px solid #007bff; padding: 10px; border-radius: 3px; box-shadow: 0 2px 4px rgba(0,0,0,0.1);\">\n",
    "    <strong style=\"color: #007bff;\"> Type Casting</strong>\n",
    "</div>\n"
   ]
  },
  {
   "cell_type": "code",
   "execution_count": 5,
   "id": "a247dfe8-ca1b-43e7-8397-f5bb46d7aa0f",
   "metadata": {},
   "outputs": [
    {
     "data": {
      "text/plain": [
       "(3, 3.0, '3', int, float, str)"
      ]
     },
     "execution_count": 5,
     "metadata": {},
     "output_type": "execute_result"
    }
   ],
   "source": [
    "a = int(3.0)\n",
    "b = float(3)\n",
    "c = str(3)\n",
    "a,b,c,type(a),type(b),type(c)"
   ]
  },
  {
   "cell_type": "markdown",
   "id": "02b064e8-e903-4511-9cd1-d9db9095e045",
   "metadata": {},
   "source": [
    "<div style=\"background-color: #e6f7ff; border-left: 6px solid #007bff; padding: 10px; border-radius: 3px; box-shadow: 0 2px 4px rgba(0,0,0,0.1);\">\n",
    "    <strong style=\"color: #007bff;\"> Variable Name</strong>\n",
    "</div>\n"
   ]
  },
  {
   "cell_type": "markdown",
   "id": "ba6a62c7-b662-4950-b67d-f68efae84319",
   "metadata": {},
   "source": [
    "- camelCase (firstName-lastName)\n",
    "- PascalCase (FirstName-LastName)\n",
    "- SnakeCase (first_name-last_name)\n",
    "- A variable name must start with a letter or the underscore character\n",
    "- A variable name cannot start with a number\n",
    "- A variable name can only contain alpha-numeric characters and underscores (A-z, 0-9, and _ )\n",
    "- Variable names are case-sensitive (age, Age and AGE are three different variables)\n",
    "- A variable name cannot be any of the Python keywords."
   ]
  },
  {
   "cell_type": "markdown",
   "id": "ed8ee8b5-f82d-4011-88cf-6515d15a3323",
   "metadata": {},
   "source": [
    "<div style=\"background-color: #e6f7ff; border-left: 6px solid #007bff; padding: 10px; border-radius: 3px; box-shadow: 0 2px 4px rgba(0,0,0,0.1);\">\n",
    "    <strong style=\"color: #007bff;\"> Data Types</strong>\n",
    "</div>\n"
   ]
  },
  {
   "cell_type": "code",
   "execution_count": null,
   "id": "f86d176b-fc32-44ab-ab99-0ce39997b6d6",
   "metadata": {},
   "outputs": [],
   "source": [
    "x = \"Hello World\"\t# string\t\n",
    "x = 20\t            # integer\t\n",
    "x = 20.5\t        # float\t\n",
    "x = 1j\t            # complex\t\n",
    "x = [\"apple\", \"banana\", \"cherry\"]\t# list\t\n",
    "x = (\"apple\", \"banana\", \"cherry\")\t# tuple\t\n",
    "x = range(6)\t                    # range\t\n",
    "x = {\"name\" : \"John\", \"age\" : 36}\t# dict\t\n",
    "x = {\"apple\", \"banana\", \"cherry\"}\t# set\t\n",
    "x = frozenset({\"apple\", \"banana\", \"cherry\"})\t# frozenset\t\n",
    "x = True\t              # bool\t\n",
    "x = b\"Hello\"\t          # bytes\t\n",
    "x = bytearray(5)\t      # bytearray\t\n",
    "x = memoryview(bytes(5))  # memoryview\t\n",
    "x = None\t              # NoneType"
   ]
  },
  {
   "cell_type": "markdown",
   "id": "d98e5179-8330-4685-9f48-fca6f0bba66d",
   "metadata": {},
   "source": [
    "<div style=\"background-color: #e6f7ff; border-left: 6px solid #007bff; padding: 10px; border-radius: 3px; box-shadow: 0 2px 4px rgba(0,0,0,0.1);\">\n",
    "    <strong style=\"color: #007bff;\"> Numbers</strong>\n",
    "</div>\n"
   ]
  },
  {
   "cell_type": "code",
   "execution_count": 11,
   "id": "fdfa2593-a823-4b42-999e-9923045da572",
   "metadata": {},
   "outputs": [
    {
     "name": "stdout",
     "output_type": "stream",
     "text": [
      "<class 'float'>\n",
      "<class 'float'>\n",
      "<class 'float'>\n",
      "<class 'int'>\n",
      "<class 'int'>\n",
      "<class 'complex'>\n",
      "<class 'complex'>\n"
     ]
    }
   ],
   "source": [
    "print(type(10.0))\n",
    "print(type(-5.0))\n",
    "print(type(10e1000))\n",
    "print(type(3))\n",
    "print(type(-7))\n",
    "print(type(10j))\n",
    "print(type(1+5j))"
   ]
  },
  {
   "cell_type": "markdown",
   "id": "84457915-df78-4da2-b76e-75f35a020ede",
   "metadata": {},
   "source": [
    "# Strings"
   ]
  },
  {
   "cell_type": "code",
   "execution_count": 14,
   "id": "c94e5e85-6b3f-4b96-ba65-a4fc768e8bf5",
   "metadata": {},
   "outputs": [
    {
     "name": "stdout",
     "output_type": "stream",
     "text": [
      "Hello\n",
      "'Hi'\n"
     ]
    }
   ],
   "source": [
    "print (\"Hello\")\n",
    "print(\"'Hi'\")"
   ]
  },
  {
   "cell_type": "markdown",
   "id": "e71269ea-7a87-4b4b-91c1-aa8b221ac8d4",
   "metadata": {},
   "source": [
    "<div style=\"background-color: #e6f7ff; border-left: 6px solid #007bff; padding: 10px; border-radius: 3px; box-shadow: 0 2px 4px rgba(0,0,0,0.1);\">\n",
    "    <strong style=\"color: #007bff;\"> Strings are array</strong>\n",
    "</div>\n"
   ]
  },
  {
   "cell_type": "code",
   "execution_count": 55,
   "id": "79ebf0f0-afef-47ed-b107-d07ecd23f4d3",
   "metadata": {},
   "outputs": [
    {
     "name": "stdout",
     "output_type": "stream",
     "text": [
      "h\n"
     ]
    }
   ],
   "source": [
    "x = \"Ahmed\"\n",
    "print(x[1])"
   ]
  },
  {
   "cell_type": "markdown",
   "id": "62c4cea1-8a98-4d6e-aade-2bca6f649f66",
   "metadata": {},
   "source": [
    "<div style=\"background-color: #e6f7ff; border-left: 6px solid #007bff; padding: 10px; border-radius: 3px; box-shadow: 0 2px 4px rgba(0,0,0,0.1);\">\n",
    "    <strong style=\"color: #007bff;\"> length</strong>\n",
    "</div>\n"
   ]
  },
  {
   "cell_type": "code",
   "execution_count": 56,
   "id": "166b6f0d-ecb8-4295-b509-01fb11c9ce64",
   "metadata": {},
   "outputs": [
    {
     "name": "stdout",
     "output_type": "stream",
     "text": [
      "7\n"
     ]
    }
   ],
   "source": [
    "x = \"mohamed\"\n",
    "print(len(x))"
   ]
  },
  {
   "cell_type": "markdown",
   "id": "5ebdec64-491a-4f0f-b7e4-db5710bb2265",
   "metadata": {},
   "source": [
    "<div style=\"background-color: #e6f7ff; border-left: 6px solid #007bff; padding: 10px; border-radius: 3px; box-shadow: 0 2px 4px rgba(0,0,0,0.1);\">\n",
    "    <strong style=\"color: #007bff;\"> Check String</strong>\n",
    "</div>\n"
   ]
  },
  {
   "cell_type": "code",
   "execution_count": 20,
   "id": "ade91eb4-7e76-4a15-85b4-ce49a74728c1",
   "metadata": {},
   "outputs": [
    {
     "name": "stdout",
     "output_type": "stream",
     "text": [
      "False\n",
      "True\n"
     ]
    }
   ],
   "source": [
    "x = \"hello iam mohamed sobhy\"\n",
    "print(\"free\" in x)\n",
    "print(\"free\" not in x)"
   ]
  },
  {
   "cell_type": "markdown",
   "id": "ab75e5ce-3c9c-4926-a15d-ae4a5172776c",
   "metadata": {},
   "source": [
    "<div style=\"background-color: #e6f7ff; border-left: 6px solid #007bff; padding: 10px; border-radius: 3px; box-shadow: 0 2px 4px rgba(0,0,0,0.1);\">\n",
    "    <strong style=\"color: #007bff;\"> Slicing</strong>\n",
    "</div>\n"
   ]
  },
  {
   "cell_type": "code",
   "execution_count": 22,
   "id": "be8aa591-a255-423f-b79f-ddab7b96f438",
   "metadata": {},
   "outputs": [
    {
     "name": "stdout",
     "output_type": "stream",
     "text": [
      "m\n",
      "d\n",
      "moham\n",
      "mohamed\n",
      "mohame\n"
     ]
    }
   ],
   "source": [
    "name = \"mohamed\"\n",
    "print(name[0])\n",
    "print(name[-1])\n",
    "print(name[0:5])\n",
    "print(name[0:])\n",
    "print(name[:6])"
   ]
  },
  {
   "cell_type": "markdown",
   "id": "7dbdedc8-ee62-4e4f-b0ac-f5cdb7c4b37d",
   "metadata": {},
   "source": [
    "<div style=\"background-color: #e6f7ff; border-left: 6px solid #007bff; padding: 10px; border-radius: 3px; box-shadow: 0 2px 4px rgba(0,0,0,0.1);\">\n",
    "    <strong style=\"color: #007bff;\"> Methods</strong>\n",
    "</div>\n"
   ]
  },
  {
   "cell_type": "code",
   "execution_count": 34,
   "id": "e2ab52af-1d95-4230-b486-9404f46f5ce1",
   "metadata": {},
   "outputs": [
    {
     "name": "stdout",
     "output_type": "stream",
     "text": [
      "Upper: #MOHAMEDSOBHY#\n",
      "Lower: #mohamedsobhy#\n",
      "Strip: mohamedsobhy\n",
      "Replace: @mohamedsobhy@\n",
      "split ['mohame', 'sobhy', 'mohamed']\n"
     ]
    }
   ],
   "source": [
    "name = \"#mohamedsobhy#\"\n",
    "print(\"Upper:\",name.upper())\n",
    "print(\"Lower:\",name.lower())\n",
    "print(\"Strip:\",name.strip('#'))\n",
    "print(\"Replace:\",name.replace('#','@'))\n",
    "var = \"mohame sobhy mohamed\"\n",
    "print(\"split\",var.split())"
   ]
  },
  {
   "cell_type": "markdown",
   "id": "d1fe12cf-f0bb-46df-88b9-29f887f9dc52",
   "metadata": {},
   "source": [
    "<div style=\"background-color: #e6f7ff; border-left: 6px solid #007bff; padding: 10px; border-radius: 3px; box-shadow: 0 2px 4px rgba(0,0,0,0.1);\">\n",
    "    <strong style=\"color: #007bff;\"> Concatination</strong>\n",
    "</div>"
   ]
  },
  {
   "cell_type": "code",
   "execution_count": 37,
   "id": "bf8493d8-64c7-40ac-adc2-991d9ebb3efe",
   "metadata": {},
   "outputs": [
    {
     "name": "stdout",
     "output_type": "stream",
     "text": [
      "mohamed sobhy\n"
     ]
    }
   ],
   "source": [
    "x = \"mohamed\"\n",
    "y = \"sobhy\"\n",
    "print(x+\" \"+y)"
   ]
  },
  {
   "cell_type": "markdown",
   "id": "417a0f16-a8c4-4975-8bd6-d9ae947c4cce",
   "metadata": {},
   "source": [
    "<div style=\"background-color: #e6f7ff; border-left: 6px solid #007bff; padding: 10px; border-radius: 3px; box-shadow: 0 2px 4px rgba(0,0,0,0.1);\">\n",
    "    <strong style=\"color: #007bff;\"> Formating</strong>\n",
    "</div>\n"
   ]
  },
  {
   "cell_type": "code",
   "execution_count": 39,
   "id": "5ee05372-a380-4dca-8ac4-d48f20a35eff",
   "metadata": {},
   "outputs": [
    {
     "name": "stdout",
     "output_type": "stream",
     "text": [
      "my name is mohame, iam 15 years old, iam from egypt\n"
     ]
    }
   ],
   "source": [
    "name = \"mohame\"\n",
    "age = 15\n",
    "country = \"egypt\"\n",
    "print(f\"my name is {name}, iam {age} years old, iam from {country}\")"
   ]
  },
  {
   "cell_type": "markdown",
   "id": "adb19564-5f39-4919-a8ef-04ffe5bf03dc",
   "metadata": {},
   "source": [
    "<div style=\"background-color: #e6f7ff; border-left: 6px solid #007bff; padding: 10px; border-radius: 3px; box-shadow: 0 2px 4px rgba(0,0,0,0.1);\">\n",
    "    <strong style=\"color: #007bff;\"> Escape Characters</strong>\n",
    "</div>\n"
   ]
  },
  {
   "cell_type": "markdown",
   "id": "d9a5d4de-1ef5-4624-9e28-e2c5f32e9336",
   "metadata": {},
   "source": [
    "# Boleans"
   ]
  },
  {
   "cell_type": "code",
   "execution_count": 41,
   "id": "29ce4ac8-1b4c-4807-a97b-6768e51e9834",
   "metadata": {},
   "outputs": [
    {
     "data": {
      "text/plain": [
       "(bool, bool)"
      ]
     },
     "execution_count": 41,
     "metadata": {},
     "output_type": "execute_result"
    }
   ],
   "source": [
    "x = True\n",
    "y = False\n",
    "type(x) , type(y)"
   ]
  },
  {
   "cell_type": "code",
   "execution_count": 2,
   "id": "5922e8db-cc4f-4ea9-aba2-91b37e084f38",
   "metadata": {},
   "outputs": [
    {
     "name": "stdout",
     "output_type": "stream",
     "text": [
      "False\n",
      "True\n"
     ]
    }
   ],
   "source": [
    "print(3 > 5)\n",
    "print(5 == 5)"
   ]
  },
  {
   "cell_type": "markdown",
   "id": "72375c3b-8e65-486f-905a-dfc597ced5d2",
   "metadata": {},
   "source": [
    "# Operators"
   ]
  },
  {
   "cell_type": "markdown",
   "id": "632f0878-91d5-43b1-b0a9-23ce2947e048",
   "metadata": {},
   "source": [
    "<div style=\"background-color: #e6f7ff; border-left: 6px solid #007bff; padding: 10px; border-radius: 3px; box-shadow: 0 2px 4px rgba(0,0,0,0.1);\">\n",
    "    <strong style=\"color: #007bff;\">  Arithmetic</strong>\n",
    "</div>\n"
   ]
  },
  {
   "cell_type": "markdown",
   "id": "5b5799cc-fd63-4bde-b486-2c55d2b907c1",
   "metadata": {},
   "source": [
    "- Addition\tx + y\t\n",
    "- Subtraction\tx - y\t\n",
    "- Multiplication\tx * y\t\n",
    "- Division\tx / y\t\n",
    "- Modulus\tx % y\t\n",
    "- Exponentiation\tx ** y\t\n",
    "- Floor division\tx // y"
   ]
  },
  {
   "cell_type": "markdown",
   "id": "bd10f149-cc2b-4db0-98de-d3eb7e8a89e8",
   "metadata": {},
   "source": [
    "<div style=\"background-color: #e6f7ff; border-left: 6px solid #007bff; padding: 10px; border-radius: 3px; box-shadow: 0 2px 4px rgba(0,0,0,0.1);\">\n",
    "    <strong style=\"color: #007bff;\">  Assignment </strong>\n",
    "</div>"
   ]
  },
  {
   "cell_type": "markdown",
   "id": "2d15bbf8-d28b-4be8-a893-af2a0a09b979",
   "metadata": {},
   "source": [
    "-   x = 5\tx = 5\t\n",
    "-\tx += 3\tx = x + 3\t\n",
    "-\tx -= 3\tx = x - 3\t\n",
    "-\tx *= 3\tx = x * 3\t\n",
    "-\tx /= 3\tx = x / 3\t\n",
    "-\tx %= 3\tx = x % 3\t\n",
    "-\tx //= 3\tx = x // 3\t\n",
    "-\tx **= 3\tx = x ** 3\t\n",
    "-\tx &= 3\tx = x & 3\t\n",
    "-\tx |= 3\tx = x | 3\t\n",
    "-\tx ^= 3\tx = x ^ 3\t\n",
    "-\tx >>= 3\tx = x >> 3\t\n",
    "-\tx <<= 3\tx = x << 3"
   ]
  },
  {
   "cell_type": "markdown",
   "id": "c3a9439c-2e71-4b67-81d6-af0365423ff0",
   "metadata": {},
   "source": [
    "<div style=\"background-color: #e6f7ff; border-left: 6px solid #007bff; padding: 10px; border-radius: 3px; box-shadow: 0 2px 4px rgba(0,0,0,0.1);\">\n",
    "    <strong style=\"color: #007bff;\">  Combarison </strong>\n",
    "</div>"
   ]
  },
  {
   "cell_type": "markdown",
   "id": "afc90168-c6c1-4eb0-a6b6-f23677cd14a2",
   "metadata": {},
   "source": [
    "- Equal\tx == y\t\n",
    "- Not equal\tx != y\t\n",
    "- Greater than\tx > y\t\n",
    "- Less than\tx < y\t\n",
    "- Greater than or equal to\tx >= y\t\n",
    "- Less than or equal to\tx <= y"
   ]
  },
  {
   "cell_type": "markdown",
   "id": "01772433-f51d-4ce8-8938-5cc7b60842b1",
   "metadata": {},
   "source": [
    "<div style=\"background-color: #e6f7ff; border-left: 6px solid #007bff; padding: 10px; border-radius: 3px; box-shadow: 0 2px 4px rgba(0,0,0,0.1);\">\n",
    "    <strong style=\"color: #007bff;\">  Logical </strong>\n",
    "</div>"
   ]
  },
  {
   "cell_type": "markdown",
   "id": "380be720-5a5f-4395-ac04-99d5e6e55fd8",
   "metadata": {},
   "source": [
    "- and \tReturns True if both statements are true\tx < 5 and  x < 10\t\n",
    "- or\tReturns True if one of the statements is true\tx < 5 or x < 4\t\n",
    "- not\tReverse the result, returns False if the result is true"
   ]
  },
  {
   "cell_type": "markdown",
   "id": "525ce266-7b44-4fd1-a700-4a837d096104",
   "metadata": {},
   "source": [
    "<div style=\"background-color: #e6f7ff; border-left: 6px solid #007bff; padding: 10px; border-radius: 3px; box-shadow: 0 2px 4px rgba(0,0,0,0.1);\">\n",
    "    <strong style=\"color: #007bff;\">  Identity </strong>\n",
    "</div>"
   ]
  },
  {
   "cell_type": "markdown",
   "id": "4e92c3c2-e60a-445f-b7db-5da42ab238d0",
   "metadata": {},
   "source": [
    "- is \t    Returns True if both variables are the same object\tx is y\t\r",
    "- \n",
    "is not\tReturns True if both variables are not the same object"
   ]
  },
  {
   "cell_type": "markdown",
   "id": "9d62b014-37b9-4b3c-9621-6acdbd7f2b6a",
   "metadata": {},
   "source": [
    "<div style=\"background-color: #e6f7ff; border-left: 6px solid #007bff; padding: 10px; border-radius: 3px; box-shadow: 0 2px 4px rgba(0,0,0,0.1);\">\n",
    "    <strong style=\"color: #007bff;\">  Membership  </strong>\n",
    "</div>"
   ]
  },
  {
   "cell_type": "markdown",
   "id": "09fb6150-3865-49c2-9fcf-c46ca5f8649e",
   "metadata": {},
   "source": [
    "- in \tReturns True if a sequence with the specified value is present in the object\tx in y\t\r",
    "- \n",
    "not in\tReturns True if a sequence with the specified value is not present in the object"
   ]
  },
  {
   "cell_type": "code",
   "execution_count": null,
   "id": "ff27118f-db4b-4001-9f50-dd6f932043f0",
   "metadata": {},
   "outputs": [],
   "source": []
  }
 ],
 "metadata": {
  "kernelspec": {
   "display_name": "Python 3 (ipykernel)",
   "language": "python",
   "name": "python3"
  },
  "language_info": {
   "codemirror_mode": {
    "name": "ipython",
    "version": 3
   },
   "file_extension": ".py",
   "mimetype": "text/x-python",
   "name": "python",
   "nbconvert_exporter": "python",
   "pygments_lexer": "ipython3",
   "version": "3.11.5"
  }
 },
 "nbformat": 4,
 "nbformat_minor": 5
}
