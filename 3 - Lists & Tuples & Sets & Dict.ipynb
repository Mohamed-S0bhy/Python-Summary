{
 "cells": [
  {
   "cell_type": "markdown",
   "id": "b69895bf-371f-4a5f-9df4-444e480b6518",
   "metadata": {},
   "source": [
    "# List"
   ]
  },
  {
   "cell_type": "markdown",
   "id": "3c8ddee4-f4e9-43a4-93bf-9419d27bf081",
   "metadata": {},
   "source": [
    "<div style=\"background-color: #e6f7ff; border-left: 6px solid #007bff; padding: 10px; border-radius: 3px; box-shadow: 0 2px 4px rgba(0,0,0,0.1);\">\n",
    "    <strong style=\"color: #007bff;\"> Create List</strong>\n",
    "</div>\n"
   ]
  },
  {
   "cell_type": "code",
   "execution_count": 3,
   "id": "374f735e-9cc1-4e3d-99b7-c1b838c11bda",
   "metadata": {},
   "outputs": [
    {
     "name": "stdout",
     "output_type": "stream",
     "text": [
      "<class 'list'>\n"
     ]
    }
   ],
   "source": [
    "list1 = [\"apple\" , 1 , 3.0 , True]\n",
    "print(type(list1))"
   ]
  },
  {
   "cell_type": "code",
   "execution_count": 4,
   "id": "a08c745e-6d21-4722-83a8-a8ad10b7bcaa",
   "metadata": {},
   "outputs": [
    {
     "name": "stdout",
     "output_type": "stream",
     "text": [
      "<class 'list'>\n"
     ]
    }
   ],
   "source": [
    "list2 = list((\"mohamed\",\"ahmed\",True,55))\n",
    "print(type(list2))"
   ]
  },
  {
   "cell_type": "markdown",
   "id": "d6edf8dc-3fd0-4f7c-90ab-43d63d6364ae",
   "metadata": {},
   "source": [
    "<div style=\"background-color: #e6f7ff; border-left: 6px solid #007bff; padding: 10px; border-radius: 3px; box-shadow: 0 2px 4px rgba(0,0,0,0.1);\">\n",
    "    <strong style=\"color: #007bff;\">  Slicing </strong>\n",
    "</div>\n"
   ]
  },
  {
   "cell_type": "code",
   "execution_count": 5,
   "id": "ad3f58f3-be9a-4147-9f9a-490272f41491",
   "metadata": {},
   "outputs": [
    {
     "name": "stdout",
     "output_type": "stream",
     "text": [
      "apple\n",
      "watermelon\n",
      "['apple', 'orange']\n",
      "['apple', 'orange', 'banana']\n",
      "['apple', 'orange', 'banana', 'watermelon']\n"
     ]
    }
   ],
   "source": [
    "fruit = [\"apple\",\"orange\",\"banana\",\"watermelon\"]\n",
    "print(fruit[0])\n",
    "print(fruit[-1])\n",
    "print(fruit[0:2])\n",
    "print(fruit[:-1])\n",
    "print(fruit[0:])"
   ]
  },
  {
   "cell_type": "markdown",
   "id": "771ac380-1ca5-4bd9-8df8-c87cd9e6f7d0",
   "metadata": {},
   "source": [
    "<div style=\"background-color: #e6f7ff; border-left: 6px solid #007bff; padding: 10px; border-radius: 3px; box-shadow: 0 2px 4px rgba(0,0,0,0.1);\">\n",
    "    <strong style=\"color: #007bff;\">  Methods </strong>\n",
    "</div>\n"
   ]
  },
  {
   "cell_type": "code",
   "execution_count": 7,
   "id": "656d2b94-5c9b-4654-a04b-573dd31329a2",
   "metadata": {},
   "outputs": [
    {
     "data": {
      "text/plain": [
       "['apple', 'coconut', 'orange', 'banana', 'watermelon']"
      ]
     },
     "execution_count": 7,
     "metadata": {},
     "output_type": "execute_result"
    }
   ],
   "source": [
    "# insert\n",
    "fruit = [\"apple\",\"orange\",\"banana\",\"watermelon\"]\n",
    "fruit.insert(1,\"coconut\")\n",
    "fruit"
   ]
  },
  {
   "cell_type": "code",
   "execution_count": 9,
   "id": "0c3d7f27-96a2-423d-8a62-7502122215a8",
   "metadata": {},
   "outputs": [
    {
     "data": {
      "text/plain": [
       "['apple', 'orange', 'banana', 'watermelon', 'coconut']"
      ]
     },
     "execution_count": 9,
     "metadata": {},
     "output_type": "execute_result"
    }
   ],
   "source": [
    "# append\n",
    "fruit = [\"apple\",\"orange\",\"banana\",\"watermelon\"]\n",
    "fruit.append(\"coconut\")\n",
    "fruit"
   ]
  },
  {
   "cell_type": "code",
   "execution_count": 14,
   "id": "ba6f9f73-c662-4560-b367-2c96796e7904",
   "metadata": {},
   "outputs": [
    {
     "data": {
      "text/plain": [
       "[1, 2, 3, 4, 5, 6]"
      ]
     },
     "execution_count": 14,
     "metadata": {},
     "output_type": "execute_result"
    }
   ],
   "source": [
    "# extend\n",
    "list_1 = [1,2,3]\n",
    "list_2 = [4,5,6]\n",
    "list_1.extend(list_2)\n",
    "list_1"
   ]
  },
  {
   "cell_type": "code",
   "execution_count": 17,
   "id": "11e6f984-5f9c-4e88-92a2-0b3f8085c3c3",
   "metadata": {},
   "outputs": [
    {
     "data": {
      "text/plain": [
       "['mohamed', 'ali']"
      ]
     },
     "execution_count": 17,
     "metadata": {},
     "output_type": "execute_result"
    }
   ],
   "source": [
    "# remove\n",
    "names = [\"ahmed\",\"mohamed\",\"ali\"]\n",
    "names.remove(\"ahmed\")\n",
    "names"
   ]
  },
  {
   "cell_type": "code",
   "execution_count": 18,
   "id": "6ea1c6a5-32ca-4c08-bbbc-7189874d1767",
   "metadata": {},
   "outputs": [
    {
     "data": {
      "text/plain": [
       "['mohamed', 'ali']"
      ]
     },
     "execution_count": 18,
     "metadata": {},
     "output_type": "execute_result"
    }
   ],
   "source": [
    "# pop\n",
    "names = [\"ahmed\",\"mohamed\",\"ali\"]\n",
    "names.pop(0)\n",
    "names"
   ]
  },
  {
   "cell_type": "code",
   "execution_count": 19,
   "id": "d8858b18-5597-4e8b-8cb4-5a33745598a1",
   "metadata": {},
   "outputs": [
    {
     "data": {
      "text/plain": [
       "[]"
      ]
     },
     "execution_count": 19,
     "metadata": {},
     "output_type": "execute_result"
    }
   ],
   "source": [
    "# clear\n",
    "names = [\"ahmed\",\"mohamed\",\"ali\"]\n",
    "names.clear()\n",
    "names"
   ]
  },
  {
   "cell_type": "code",
   "execution_count": 22,
   "id": "7850feb1-069b-4c83-956c-c3dc6d6ecfc5",
   "metadata": {},
   "outputs": [
    {
     "data": {
      "text/plain": [
       "['ahmed', 'ali', 'mohamed']"
      ]
     },
     "execution_count": 22,
     "metadata": {},
     "output_type": "execute_result"
    }
   ],
   "source": [
    "# sort \n",
    "names = [\"ahmed\",\"mohamed\",\"ali\"]\n",
    "names.sort()\n",
    "names"
   ]
  },
  {
   "cell_type": "code",
   "execution_count": 23,
   "id": "d02fbb70-14f4-4794-b7c2-010c1375f2af",
   "metadata": {},
   "outputs": [
    {
     "data": {
      "text/plain": [
       "['mohamed', 'ali', 'ahmed']"
      ]
     },
     "execution_count": 23,
     "metadata": {},
     "output_type": "execute_result"
    }
   ],
   "source": [
    "# reverse \n",
    "names = [\"ahmed\",\"mohamed\",\"ali\"]\n",
    "names.sort(reverse=True)\n",
    "names"
   ]
  },
  {
   "cell_type": "code",
   "execution_count": 24,
   "id": "20e5bf48-858a-497a-9df9-e6d36cf956d6",
   "metadata": {},
   "outputs": [
    {
     "data": {
      "text/plain": [
       "['ali', 'mohamed', 'ahmed']"
      ]
     },
     "execution_count": 24,
     "metadata": {},
     "output_type": "execute_result"
    }
   ],
   "source": [
    "# reverse \n",
    "names = [\"ahmed\",\"mohamed\",\"ali\"]\n",
    "names.reverse()\n",
    "names"
   ]
  },
  {
   "cell_type": "code",
   "execution_count": 26,
   "id": "5d48c4df-e175-457a-ada0-79cda533895b",
   "metadata": {},
   "outputs": [
    {
     "data": {
      "text/plain": [
       "['ahmed', 'mohamed', 'ali']"
      ]
     },
     "execution_count": 26,
     "metadata": {},
     "output_type": "execute_result"
    }
   ],
   "source": [
    "# copy \n",
    "names = [\"ahmed\",\"mohamed\",\"ali\"]\n",
    "names2=names.copy()\n",
    "names2"
   ]
  },
  {
   "cell_type": "markdown",
   "id": "5503d487-95e5-4077-95a8-65dd6b03fb9f",
   "metadata": {},
   "source": [
    "# Tuples"
   ]
  },
  {
   "cell_type": "markdown",
   "id": "422abb44-4831-4464-ae60-1b01eedd2b9f",
   "metadata": {},
   "source": [
    "<div style=\"background-color: #e6f7ff; border-left: 6px solid #007bff; padding: 10px; border-radius: 3px; box-shadow: 0 2px 4px rgba(0,0,0,0.1);\">\n",
    "    <strong style=\"color: #007bff;\">  Create Tuples </strong>\n",
    "</div>"
   ]
  },
  {
   "cell_type": "code",
   "execution_count": 28,
   "id": "079e0cb0-30c2-476a-9e42-6aeebdd1c20d",
   "metadata": {},
   "outputs": [
    {
     "data": {
      "text/plain": [
       "tuple"
      ]
     },
     "execution_count": 28,
     "metadata": {},
     "output_type": "execute_result"
    }
   ],
   "source": [
    "fruit = (\"apple\",\"orange\",\"banana\",\"watermelon\")\n",
    "type(fruit)"
   ]
  },
  {
   "cell_type": "code",
   "execution_count": 30,
   "id": "12e75dc1-26d0-4883-95a8-df7fa1e45ae9",
   "metadata": {},
   "outputs": [
    {
     "data": {
      "text/plain": [
       "tuple"
      ]
     },
     "execution_count": 30,
     "metadata": {},
     "output_type": "execute_result"
    }
   ],
   "source": [
    "fruit = tuple((\"apple\",\"orange\",\"banana\",\"watermelon\"))\n",
    "type(fruit)"
   ]
  },
  {
   "cell_type": "markdown",
   "id": "a43681a9-197b-4207-a12b-cb7660ee6922",
   "metadata": {},
   "source": [
    "<div style=\"background-color: #e6f7ff; border-left: 6px solid #007bff; padding: 10px; border-radius: 3px; box-shadow: 0 2px 4px rgba(0,0,0,0.1);\">\n",
    "    <strong style=\"color: #007bff;\">   Slicing </strong>\n",
    "</div>"
   ]
  },
  {
   "cell_type": "code",
   "execution_count": 33,
   "id": "53e7c3d0-3a6a-4158-acd4-a5fd021c19a7",
   "metadata": {},
   "outputs": [
    {
     "name": "stdout",
     "output_type": "stream",
     "text": [
      "apple\n",
      "watermelon\n",
      "('apple', 'orange')\n",
      "('apple', 'orange', 'banana')\n",
      "('apple', 'orange', 'banana', 'watermelon')\n"
     ]
    }
   ],
   "source": [
    "fruit = (\"apple\",\"orange\",\"banana\",\"watermelon\")\n",
    "print(fruit[0])\n",
    "print(fruit[-1])\n",
    "print(fruit[0:2])\n",
    "print(fruit[:-1])\n",
    "print(fruit[0:])"
   ]
  },
  {
   "cell_type": "markdown",
   "id": "d8ab1c18-c297-4c3f-a4d0-9f4e63db8f1b",
   "metadata": {},
   "source": [
    "<div style=\"background-color: #e6f7ff; border-left: 6px solid #007bff; padding: 10px; border-radius: 3px; box-shadow: 0 2px 4px rgba(0,0,0,0.1);\">\n",
    "    <strong style=\"color: #007bff;\">   Methods\n",
    "    </strong>\n",
    "</div>"
   ]
  },
  {
   "cell_type": "markdown",
   "id": "ab9a7a7c-9177-4433-988d-ebd7b2be3f5b",
   "metadata": {},
   "source": [
    "convert tuple to list and apply methods then return it to tuple"
   ]
  },
  {
   "cell_type": "markdown",
   "id": "0095b7e9-2dd5-479e-8809-0874ec5d4a40",
   "metadata": {},
   "source": [
    "# Sets"
   ]
  },
  {
   "cell_type": "markdown",
   "id": "a9d237ef-95c3-429e-8ac2-c6f0af4533f1",
   "metadata": {},
   "source": [
    "<div style=\"background-color: #e6f7ff; border-left: 6px solid #007bff; padding: 10px; border-radius: 3px; box-shadow: 0 2px 4px rgba(0,0,0,0.1);\">\n",
    "    <strong style=\"color: #007bff;\">   Create Set\n",
    "    </strong>\n",
    "</div>"
   ]
  },
  {
   "cell_type": "code",
   "execution_count": 38,
   "id": "8f92722d-a75a-413d-9226-378028569a92",
   "metadata": {},
   "outputs": [
    {
     "data": {
      "text/plain": [
       "set"
      ]
     },
     "execution_count": 38,
     "metadata": {},
     "output_type": "execute_result"
    }
   ],
   "source": [
    "myset = {\"apple\", \"banana\", \"cherry\"}\n",
    "type(myset)"
   ]
  },
  {
   "cell_type": "code",
   "execution_count": 39,
   "id": "b06d7d2e-8e6c-4a10-ab01-77730947c901",
   "metadata": {},
   "outputs": [
    {
     "name": "stdout",
     "output_type": "stream",
     "text": [
      "{'banana', 'cherry', 'apple'}\n"
     ]
    }
   ],
   "source": [
    "thisset = set((\"apple\", \"banana\", \"cherry\")) # note the double round-brackets\n",
    "print(thisset)"
   ]
  },
  {
   "cell_type": "markdown",
   "id": "3a1f7c59-a445-4602-a461-d79fbcbf0f0c",
   "metadata": {},
   "source": [
    "<div style=\"background-color: #e6f7ff; border-left: 6px solid #007bff; padding: 10px; border-radius: 3px; box-shadow: 0 2px 4px rgba(0,0,0,0.1);\">\n",
    "    <strong style=\"color: #007bff;\">    Methods\n",
    "    </strong>\n",
    "</div>"
   ]
  },
  {
   "cell_type": "code",
   "execution_count": 41,
   "id": "ff3e100e-a0cf-4219-b22b-2078abf23a9d",
   "metadata": {},
   "outputs": [
    {
     "name": "stdout",
     "output_type": "stream",
     "text": [
      "{'banana', 'cherry', 'apple', 'orange'}\n"
     ]
    }
   ],
   "source": [
    "# Add\n",
    "thisset = {\"apple\", \"banana\", \"cherry\"}\n",
    "\n",
    "thisset.add(\"orange\")\n",
    "\n",
    "print(thisset)"
   ]
  },
  {
   "cell_type": "code",
   "execution_count": 42,
   "id": "cc8d6596-c13e-4e79-8d69-fd4ddb74efa5",
   "metadata": {},
   "outputs": [
    {
     "name": "stdout",
     "output_type": "stream",
     "text": [
      "{'papaya', 'mango', 'cherry', 'apple', 'pineapple', 'banana'}\n"
     ]
    }
   ],
   "source": [
    "# update\n",
    "thisset = {\"apple\", \"banana\", \"cherry\"}\n",
    "tropical = {\"pineapple\", \"mango\", \"papaya\"}\n",
    "\n",
    "thisset.update(tropical)\n",
    "\n",
    "print(thisset)\n"
   ]
  },
  {
   "cell_type": "code",
   "execution_count": 43,
   "id": "74545483-a1b2-4332-9b3c-e94822ee0085",
   "metadata": {},
   "outputs": [
    {
     "name": "stdout",
     "output_type": "stream",
     "text": [
      "{'cherry', 'apple'}\n"
     ]
    }
   ],
   "source": [
    "# remove\n",
    "thisset = {\"apple\", \"banana\", \"cherry\"}\n",
    "\n",
    "thisset.remove(\"banana\")\n",
    "\n",
    "print(thisset)"
   ]
  },
  {
   "cell_type": "code",
   "execution_count": 49,
   "id": "12d037bc-cb49-4d47-9d1f-beb4230b0224",
   "metadata": {},
   "outputs": [
    {
     "name": "stdout",
     "output_type": "stream",
     "text": [
      "banana\n",
      "{'cherry', 'apple'}\n"
     ]
    }
   ],
   "source": [
    "# pop\n",
    "thisset = {\"apple\", \"banana\", \"cherry\"}\n",
    "\n",
    "x = thisset.pop()\n",
    "\n",
    "print(x)\n",
    "\n",
    "print(thisset)"
   ]
  },
  {
   "cell_type": "code",
   "execution_count": 50,
   "id": "35cae5f0-37d1-4f10-bb20-f230e350bbe1",
   "metadata": {},
   "outputs": [
    {
     "name": "stdout",
     "output_type": "stream",
     "text": [
      "set()\n"
     ]
    }
   ],
   "source": [
    "# clear\n",
    "thisset = {\"apple\", \"banana\", \"cherry\"}\n",
    "\n",
    "thisset.clear()\n",
    "\n",
    "print(thisset)\n"
   ]
  },
  {
   "cell_type": "code",
   "execution_count": 51,
   "id": "f28b22fc-1620-4e5d-a170-d66fd0758221",
   "metadata": {},
   "outputs": [
    {
     "name": "stdout",
     "output_type": "stream",
     "text": [
      "{'c', 1, 2, 3, 'b', 'a'}\n"
     ]
    }
   ],
   "source": [
    "# union\n",
    "set1 = {\"a\", \"b\", \"c\"}\n",
    "set2 = {1, 2, 3}\n",
    "\n",
    "set3 = set1 | set2\n",
    "print(set3)"
   ]
  },
  {
   "cell_type": "code",
   "execution_count": 52,
   "id": "6a2736c9-b5df-4372-9c1f-ba2c22942248",
   "metadata": {},
   "outputs": [
    {
     "name": "stdout",
     "output_type": "stream",
     "text": [
      "{'apple'}\n"
     ]
    }
   ],
   "source": [
    "# intersection\n",
    "set1 = {\"apple\", \"banana\", \"cherry\"}\n",
    "set2 = {\"google\", \"microsoft\", \"apple\"}\n",
    "\n",
    "set3 = set1 & set2\n",
    "print(set3)"
   ]
  },
  {
   "cell_type": "code",
   "execution_count": 54,
   "id": "89323bc8-53cf-4503-82bf-095d77364d6a",
   "metadata": {},
   "outputs": [
    {
     "name": "stdout",
     "output_type": "stream",
     "text": [
      "{'banana', 'cherry'}\n"
     ]
    }
   ],
   "source": [
    "# difference\n",
    "set1 = {\"apple\", \"banana\", \"cherry\"}\n",
    "set2 = {\"google\", \"microsoft\", \"apple\"}\n",
    "\n",
    "set3 = set1 - set2\n",
    "print(set3)"
   ]
  },
  {
   "cell_type": "markdown",
   "id": "58473086-6229-45a3-be9b-c4f0a74e6e24",
   "metadata": {},
   "source": [
    "# Dictionary"
   ]
  },
  {
   "cell_type": "markdown",
   "id": "7cdb2f89-3335-4589-a33b-846252211c4a",
   "metadata": {},
   "source": [
    "<div style=\"background-color: #e6f7ff; border-left: 6px solid #007bff; padding: 10px; border-radius: 3px; box-shadow: 0 2px 4px rgba(0,0,0,0.1);\">\n",
    "    <strong style=\"color: #007bff;\">    Create Dictionary\n",
    "    </strong>\n",
    "</div>"
   ]
  },
  {
   "cell_type": "code",
   "execution_count": 56,
   "id": "b7f73511-3595-4cb9-afef-62b8b1bd9958",
   "metadata": {},
   "outputs": [],
   "source": [
    "thisdict = {\n",
    "  \"brand\": \"Ford\",\n",
    "  \"model\": \"Mustang\",\n",
    "  \"year\": 1964\n",
    "}"
   ]
  },
  {
   "cell_type": "code",
   "execution_count": 62,
   "id": "5819779d-2828-4e2b-a198-2a7528a35c69",
   "metadata": {},
   "outputs": [
    {
     "name": "stdout",
     "output_type": "stream",
     "text": [
      "Ford\n",
      "1964\n",
      "dict_keys(['brand', 'model', 'year'])\n",
      "dict_values(['Ford', 'Mustang', 1964])\n"
     ]
    }
   ],
   "source": [
    "thisdict = {\n",
    "  \"brand\": \"Ford\",\n",
    "  \"model\": \"Mustang\",\n",
    "  \"year\": 1964\n",
    "}\n",
    "print(thisdict[\"brand\"])\n",
    "print(thisdict.get(\"year\"))\n",
    "print(thisdict.keys())\n",
    "print(thisdict.values())"
   ]
  },
  {
   "cell_type": "markdown",
   "id": "84de4390-31a3-4320-b316-71c14cd636ef",
   "metadata": {},
   "source": [
    "<div style=\"background-color: #e6f7ff; border-left: 6px solid #007bff; padding: 10px; border-radius: 3px; box-shadow: 0 2px 4px rgba(0,0,0,0.1);\">\n",
    "    <strong style=\"color: #007bff;\">    Add items\n",
    "    </strong>\n",
    "</div>"
   ]
  },
  {
   "cell_type": "code",
   "execution_count": 63,
   "id": "6d262056-75dc-4da8-a789-c8c15324be5a",
   "metadata": {},
   "outputs": [
    {
     "name": "stdout",
     "output_type": "stream",
     "text": [
      "{'brand': 'Ford', 'model': 'Mustang', 'year': 1964, 'color': 'red'}\n"
     ]
    }
   ],
   "source": [
    "thisdict = {\n",
    "  \"brand\": \"Ford\",\n",
    "  \"model\": \"Mustang\",\n",
    "  \"year\": 1964\n",
    "}\n",
    "thisdict[\"color\"] = \"red\"\n",
    "print(thisdict)"
   ]
  },
  {
   "cell_type": "code",
   "execution_count": 64,
   "id": "734b0392-81d5-4d91-8e83-e9df31ce28c4",
   "metadata": {},
   "outputs": [],
   "source": [
    "thisdict = {\n",
    "  \"brand\": \"Ford\",\n",
    "  \"model\": \"Mustang\",\n",
    "  \"year\": 1964\n",
    "}\n",
    "thisdict.update({\"color\": \"red\"})"
   ]
  },
  {
   "cell_type": "markdown",
   "id": "db4138d7-42f9-4b2f-a615-b155d4274bd0",
   "metadata": {},
   "source": [
    "<div style=\"background-color: #e6f7ff; border-left: 6px solid #007bff; padding: 10px; border-radius: 3px; box-shadow: 0 2px 4px rgba(0,0,0,0.1);\">\n",
    "    <strong style=\"color: #007bff;\">    Remove items\n",
    "    </strong>\n",
    "</div>"
   ]
  },
  {
   "cell_type": "code",
   "execution_count": 65,
   "id": "d8867395-cc53-4e57-925e-ea18bb74606d",
   "metadata": {},
   "outputs": [
    {
     "name": "stdout",
     "output_type": "stream",
     "text": [
      "{'brand': 'Ford', 'year': 1964}\n"
     ]
    }
   ],
   "source": [
    "thisdict = {\n",
    "  \"brand\": \"Ford\",\n",
    "  \"model\": \"Mustang\",\n",
    "  \"year\": 1964\n",
    "}\n",
    "thisdict.pop(\"model\")\n",
    "print(thisdict)"
   ]
  },
  {
   "cell_type": "code",
   "execution_count": 66,
   "id": "6f421538-5a08-4d1d-b108-e57066bc4254",
   "metadata": {},
   "outputs": [
    {
     "name": "stdout",
     "output_type": "stream",
     "text": [
      "{'brand': 'Ford', 'model': 'Mustang'}\n"
     ]
    }
   ],
   "source": [
    "thisdict = {\n",
    "  \"brand\": \"Ford\",\n",
    "  \"model\": \"Mustang\",\n",
    "  \"year\": 1964\n",
    "}\n",
    "thisdict.popitem()\n",
    "print(thisdict)"
   ]
  },
  {
   "cell_type": "code",
   "execution_count": 67,
   "id": "b2f43372-c8a0-4bd6-88b0-a50798e45403",
   "metadata": {},
   "outputs": [
    {
     "name": "stdout",
     "output_type": "stream",
     "text": [
      "{}\n"
     ]
    }
   ],
   "source": [
    "thisdict = {\n",
    "  \"brand\": \"Ford\",\n",
    "  \"model\": \"Mustang\",\n",
    "  \"year\": 1964\n",
    "}\n",
    "thisdict.clear()\n",
    "print(thisdict)"
   ]
  },
  {
   "cell_type": "markdown",
   "id": "e3a3bef5-1803-4913-8417-38d789974682",
   "metadata": {},
   "source": [
    "<div style=\"background-color: #e6f7ff; border-left: 6px solid #007bff; padding: 10px; border-radius: 3px; box-shadow: 0 2px 4px rgba(0,0,0,0.1);\">\n",
    "    <strong style=\"color: #007bff;\">    Copy\n",
    "    </strong>\n",
    "</div>"
   ]
  },
  {
   "cell_type": "code",
   "execution_count": 68,
   "id": "b4d46d5e-ee78-45fb-b6ea-0b1b44d997e0",
   "metadata": {},
   "outputs": [
    {
     "name": "stdout",
     "output_type": "stream",
     "text": [
      "{'brand': 'Ford', 'model': 'Mustang', 'year': 1964}\n"
     ]
    }
   ],
   "source": [
    "thisdict = {\n",
    "  \"brand\": \"Ford\",\n",
    "  \"model\": \"Mustang\",\n",
    "  \"year\": 1964\n",
    "}\n",
    "mydict = thisdict.copy()\n",
    "print(mydict)"
   ]
  },
  {
   "cell_type": "code",
   "execution_count": null,
   "id": "a34f916c-c796-42c6-af7a-bad68de759d6",
   "metadata": {},
   "outputs": [],
   "source": []
  }
 ],
 "metadata": {
  "kernelspec": {
   "display_name": "Python 3 (ipykernel)",
   "language": "python",
   "name": "python3"
  },
  "language_info": {
   "codemirror_mode": {
    "name": "ipython",
    "version": 3
   },
   "file_extension": ".py",
   "mimetype": "text/x-python",
   "name": "python",
   "nbconvert_exporter": "python",
   "pygments_lexer": "ipython3",
   "version": "3.11.5"
  }
 },
 "nbformat": 4,
 "nbformat_minor": 5
}
