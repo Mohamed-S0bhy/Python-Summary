{
 "cells": [
  {
   "cell_type": "markdown",
   "id": "1cd320ed-f62f-4f8c-a130-8163a469db52",
   "metadata": {},
   "source": [
    "# IF Conditions"
   ]
  },
  {
   "cell_type": "markdown",
   "id": "8054a6cc-0abc-4fd4-b3bf-cb9c517b1899",
   "metadata": {},
   "source": [
    "<div style=\"background-color: #e6f7ff; border-left: 6px solid #007bff; padding: 10px; border-radius: 3px; box-shadow: 0 2px 4px rgba(0,0,0,0.1);\">\n",
    "    <strong style=\"color: #007bff;\"> If Else</strong>\n",
    "</div>\n"
   ]
  },
  {
   "cell_type": "code",
   "execution_count": 26,
   "id": "4f7e910c-7b5f-49a4-98d3-7cd26383c6cd",
   "metadata": {},
   "outputs": [
    {
     "name": "stdout",
     "output_type": "stream",
     "text": [
      "a = b\n"
     ]
    }
   ],
   "source": [
    "a = 25\n",
    "b = 25\n",
    "if a > b :\n",
    "    print(\"a > b\")\n",
    "elif a == b:\n",
    "    print(\"a = b\")\n",
    "else:\n",
    "    print(\"a < b\")"
   ]
  },
  {
   "cell_type": "markdown",
   "id": "2b150c8f-3ddc-40ed-858d-0b7eaf420405",
   "metadata": {},
   "source": [
    "<div style=\"background-color: #e6f7ff; border-left: 6px solid #007bff; padding: 10px; border-radius: 3px; box-shadow: 0 2px 4px rgba(0,0,0,0.1);\">\n",
    "    <strong style=\"color: #007bff;\"> Short Hand IF ( Ternary Operators)\n",
    "</strong>\n",
    "</div>\n"
   ]
  },
  {
   "cell_type": "code",
   "execution_count": 28,
   "id": "8b648249-ee01-47e3-9408-513b1acbcfc7",
   "metadata": {},
   "outputs": [
    {
     "name": "stdout",
     "output_type": "stream",
     "text": [
      "a > b\n"
     ]
    }
   ],
   "source": [
    "a = 25\n",
    "b = 20\n",
    "print(\"a > b\") if a > b else print(\"a < b\")"
   ]
  },
  {
   "cell_type": "markdown",
   "id": "35cc62d4-782c-4c53-a4cd-219bac74f458",
   "metadata": {},
   "source": [
    "<div style=\"background-color: #e6f7ff; border-left: 6px solid #007bff; padding: 10px; border-radius: 3px; box-shadow: 0 2px 4px rgba(0,0,0,0.1);\">\n",
    "    <strong style=\"color: #007bff;\"> Nested IF \n",
    "</strong>\n",
    "</div>\n"
   ]
  },
  {
   "cell_type": "code",
   "execution_count": 29,
   "id": "e55c5642-34b8-4417-b372-556d42a0f33e",
   "metadata": {},
   "outputs": [
    {
     "name": "stdout",
     "output_type": "stream",
     "text": [
      "A\n"
     ]
    }
   ],
   "source": [
    "a = 25\n",
    "b = 20 \n",
    "c = 5\n",
    "if a > b:\n",
    "    if b > c:\n",
    "        print(\"A\")"
   ]
  },
  {
   "cell_type": "markdown",
   "id": "cf6a5e8d-238f-42d7-8f17-637cb628cb69",
   "metadata": {},
   "source": [
    "<div style=\"background-color: #e6f7ff; border-left: 6px solid #007bff; padding: 10px; border-radius: 3px; box-shadow: 0 2px 4px rgba(0,0,0,0.1);\">\n",
    "    <strong style=\"color: #007bff;\"> IF with logical operators (and - or - not)( Ternary Operators)\n",
    "</strong>\n",
    "</div>\n"
   ]
  },
  {
   "cell_type": "code",
   "execution_count": 30,
   "id": "e4c469e0-d7cc-43e2-9435-49b49aefc6d7",
   "metadata": {},
   "outputs": [
    {
     "name": "stdout",
     "output_type": "stream",
     "text": [
      "A\n"
     ]
    }
   ],
   "source": [
    "a = 25\n",
    "b = 20 \n",
    "c = 5\n",
    "if a > b and b > c :\n",
    "    print(\"A\")"
   ]
  },
  {
   "cell_type": "markdown",
   "id": "05dcd5b3-8844-4522-a827-12fe30d39ac7",
   "metadata": {},
   "source": [
    "# Loops"
   ]
  },
  {
   "cell_type": "markdown",
   "id": "a0dccb0d-2a62-496b-9088-1d9c3f90d294",
   "metadata": {},
   "source": [
    "<div style=\"background-color: #e6f7ff; border-left: 6px solid #007bff; padding: 10px; border-radius: 3px; box-shadow: 0 2px 4px rgba(0,0,0,0.1);\">\n",
    "    <strong style=\"color: #007bff;\"> While Loop\n",
    "\n",
    "</strong>\n",
    "</div>\n"
   ]
  },
  {
   "cell_type": "code",
   "execution_count": 33,
   "id": "0fe580d1-da39-4707-9f91-74589dd612b7",
   "metadata": {},
   "outputs": [
    {
     "name": "stdout",
     "output_type": "stream",
     "text": [
      "0\n",
      "1\n",
      "2\n",
      "3\n",
      "4\n",
      "5\n"
     ]
    }
   ],
   "source": [
    "i = 0\n",
    "while i <6:\n",
    "    print (i)\n",
    "    i +=1"
   ]
  },
  {
   "cell_type": "markdown",
   "id": "6d404a7a-bd54-42fb-8449-070c89e016eb",
   "metadata": {},
   "source": [
    "<div style=\"background-color: #e6f7ff; border-left: 6px solid #007bff; padding: 10px; border-radius: 3px; box-shadow: 0 2px 4px rgba(0,0,0,0.1);\">\n",
    "    <strong style=\"color: #007bff;\"> Break -> Terminates the loop\n",
    "\n",
    "\n",
    "</strong>\n",
    "</div>\n"
   ]
  },
  {
   "cell_type": "code",
   "execution_count": 35,
   "id": "73f02bff-9ed3-430a-b2a8-438144a699e1",
   "metadata": {},
   "outputs": [
    {
     "name": "stdout",
     "output_type": "stream",
     "text": [
      "1\n",
      "2\n",
      "3\n"
     ]
    }
   ],
   "source": [
    "i = 1\n",
    "while i < 6:\n",
    "  print(i)\n",
    "  if i == 3:\n",
    "    break\n",
    "  i += 1"
   ]
  },
  {
   "cell_type": "markdown",
   "id": "cde81949-e793-4db5-8a96-50e9c8478db9",
   "metadata": {},
   "source": [
    "<div style=\"background-color: #e6f7ff; border-left: 6px solid #007bff; padding: 10px; border-radius: 3px; box-shadow: 0 2px 4px rgba(0,0,0,0.1);\">\n",
    "    <strong style=\"color: #007bff;\"> Continue -> skip the code in the current iteration only\n",
    "\n",
    "\n",
    "\n",
    "</strong>\n",
    "</div>\n"
   ]
  },
  {
   "cell_type": "code",
   "execution_count": 36,
   "id": "4781b2cf-ac71-4a5e-8dcf-4dc23a4fe4d2",
   "metadata": {},
   "outputs": [
    {
     "name": "stdout",
     "output_type": "stream",
     "text": [
      "1\n",
      "2\n",
      "4\n",
      "5\n",
      "6\n"
     ]
    }
   ],
   "source": [
    "i = 0\n",
    "while i < 6:\n",
    "  i += 1\n",
    "  if i == 3:\n",
    "    continue\n",
    "  print(i)"
   ]
  },
  {
   "cell_type": "markdown",
   "id": "de014c98-a965-4e49-a390-8dd02e9265b3",
   "metadata": {},
   "source": [
    "<div style=\"background-color: #e6f7ff; border-left: 6px solid #007bff; padding: 10px; border-radius: 3px; box-shadow: 0 2px 4px rgba(0,0,0,0.1);\">\n",
    "    <strong style=\"color: #007bff;\"> while - else\n",
    "\n",
    "\n",
    "\n",
    "\n",
    "</strong>\n",
    "</div>\n"
   ]
  },
  {
   "cell_type": "code",
   "execution_count": 37,
   "id": "e37b5d3d-2367-4ddc-b63d-11915d19f1de",
   "metadata": {},
   "outputs": [
    {
     "name": "stdout",
     "output_type": "stream",
     "text": [
      "0\n",
      "1\n",
      "2\n",
      "3\n",
      "4\n",
      "5\n",
      "The condition stopped\n"
     ]
    }
   ],
   "source": [
    "i = 0\n",
    "while i < 6:\n",
    "    print(i)\n",
    "    i+=1\n",
    "else:\n",
    "    print(\"The condition stopped\")"
   ]
  },
  {
   "cell_type": "markdown",
   "id": "a4507c8b-818d-4cfe-bda1-f89e66782e13",
   "metadata": {},
   "source": [
    "<div style=\"background-color: #e6f7ff; border-left: 6px solid #007bff; padding: 10px; border-radius: 3px; box-shadow: 0 2px 4px rgba(0,0,0,0.1);\">\n",
    "    <strong style=\"color: #007bff;\"> For Loops\n",
    "</strong>\n",
    "</div>\n"
   ]
  },
  {
   "cell_type": "code",
   "execution_count": 38,
   "id": "5434597a-3b9c-4275-9a31-5372e54c9f67",
   "metadata": {},
   "outputs": [
    {
     "name": "stdout",
     "output_type": "stream",
     "text": [
      "apple\n",
      "orange\n",
      "mango\n"
     ]
    }
   ],
   "source": [
    "fruits = [\"apple\",\"orange\",\"mango\"]\n",
    "for x in fruits:\n",
    "    print(x)"
   ]
  },
  {
   "cell_type": "code",
   "execution_count": 39,
   "id": "3666132f-68e7-4c1f-97c2-b00448c07667",
   "metadata": {},
   "outputs": [
    {
     "name": "stdout",
     "output_type": "stream",
     "text": [
      "m\n",
      "o\n",
      "h\n",
      "a\n",
      "m\n",
      "e\n",
      "d\n"
     ]
    }
   ],
   "source": [
    "for x in \"mohamed\":\n",
    "    print(x)"
   ]
  },
  {
   "cell_type": "markdown",
   "id": "9d7f74b8-f5be-4552-8323-ea209b48c8d7",
   "metadata": {},
   "source": [
    "\n",
    "<div style=\"background-color: #e6f7ff; border-left: 6px solid #007bff; padding: 10px; border-radius: 3px; box-shadow: 0 2px 4px rgba(0,0,0,0.1);\">\n",
    "    <strong style=\"color: #007bff;\"> Range\n",
    "</strong>\n",
    "</div>\n"
   ]
  },
  {
   "cell_type": "code",
   "execution_count": 41,
   "id": "5eefe67d-ecff-4c10-b701-f9c2b1cf90e9",
   "metadata": {},
   "outputs": [
    {
     "name": "stdout",
     "output_type": "stream",
     "text": [
      "1\n",
      "3\n",
      "5\n",
      "7\n",
      "9\n"
     ]
    }
   ],
   "source": [
    "for x in range(1,10,2):\n",
    "    print(x)"
   ]
  },
  {
   "cell_type": "markdown",
   "id": "e7e44beb-05bd-4c4b-ae12-f249a6e129f8",
   "metadata": {},
   "source": [
    "\n",
    "<div style=\"background-color: #e6f7ff; border-left: 6px solid #007bff; padding: 10px; border-radius: 3px; box-shadow: 0 2px 4px rgba(0,0,0,0.1);\">\n",
    "    <strong style=\"color: #007bff;\"> for - else\n",
    "</strong>\n",
    "</div>\n"
   ]
  },
  {
   "cell_type": "code",
   "execution_count": 42,
   "id": "7249f8d1-eb00-4a9a-b1fc-23ec790a931c",
   "metadata": {},
   "outputs": [
    {
     "name": "stdout",
     "output_type": "stream",
     "text": [
      "0\n",
      "1\n",
      "2\n",
      "3\n",
      "4\n",
      "5\n",
      "finished\n"
     ]
    }
   ],
   "source": [
    "for x in range(6):\n",
    "    print(x)\n",
    "else:\n",
    "    print(\"finished\")"
   ]
  },
  {
   "cell_type": "markdown",
   "id": "99642513-decf-49bc-a585-6b20862b505f",
   "metadata": {},
   "source": [
    "<div style=\"background-color: #e6f7ff; border-left: 6px solid #007bff; padding: 10px; border-radius: 3px; box-shadow: 0 2px 4px rgba(0,0,0,0.1);\">\n",
    "    <strong style=\"color: #007bff;\"> nested loop\n",
    "</strong>\n",
    "</div>"
   ]
  },
  {
   "cell_type": "code",
   "execution_count": 43,
   "id": "83a54525-7b86-4a17-963f-e50ed44ccdfb",
   "metadata": {},
   "outputs": [
    {
     "name": "stdout",
     "output_type": "stream",
     "text": [
      "red apple\n",
      "red banana\n",
      "red orange\n",
      "yellow apple\n",
      "yellow banana\n",
      "yellow orange\n",
      "orange apple\n",
      "orange banana\n",
      "orange orange\n"
     ]
    }
   ],
   "source": [
    "colour = [\"red\",\"yellow\",\"orange\"]\n",
    "fruit = [\"apple\",\"banana\",\"orange\"]\n",
    "for x in colour:\n",
    "    for j in fruit:\n",
    "        print(x,j)"
   ]
  },
  {
   "cell_type": "markdown",
   "id": "d54f097a-cb7a-4794-8d30-49d5c0f7e7e5",
   "metadata": {},
   "source": [
    "# Functions"
   ]
  },
  {
   "cell_type": "markdown",
   "id": "cb6586c0-cba9-4d5c-a3c7-8178062af422",
   "metadata": {},
   "source": [
    "<div style=\"background-color: #e6f7ff; border-left: 6px solid #007bff; padding: 10px; border-radius: 3px; box-shadow: 0 2px 4px rgba(0,0,0,0.1);\">\n",
    "    <strong style=\"color: #007bff;\"> Create Function\n",
    "</strong>\n",
    "</div>"
   ]
  },
  {
   "cell_type": "code",
   "execution_count": 44,
   "id": "2b2ec0ed-bcba-4490-9686-16c2116e472a",
   "metadata": {},
   "outputs": [
    {
     "name": "stdout",
     "output_type": "stream",
     "text": [
      "Hello!\n"
     ]
    }
   ],
   "source": [
    "def hello():\n",
    "    print(\"Hello!\")\n",
    "hello()    "
   ]
  },
  {
   "cell_type": "markdown",
   "id": "b702b187-f7cb-41b4-b602-f424dd075d57",
   "metadata": {},
   "source": [
    "<div style=\"background-color: #e6f7ff; border-left: 6px solid #007bff; padding: 10px; border-radius: 3px; box-shadow: 0 2px 4px rgba(0,0,0,0.1);\">\n",
    "    <strong style=\"color: #007bff;\"> Arguments\n",
    "</strong>\n",
    "</div>"
   ]
  },
  {
   "cell_type": "code",
   "execution_count": 45,
   "id": "d0a3e661-09ff-457f-a00e-01efd1f7f53d",
   "metadata": {},
   "outputs": [
    {
     "name": "stdout",
     "output_type": "stream",
     "text": [
      "8\n"
     ]
    }
   ],
   "source": [
    "def sum(x,y):\n",
    "    print(x+y)\n",
    "sum(3,5)"
   ]
  },
  {
   "cell_type": "code",
   "execution_count": 47,
   "id": "92b84834-f767-4d7e-a702-87da31090018",
   "metadata": {},
   "outputs": [
    {
     "name": "stdout",
     "output_type": "stream",
     "text": [
      "15\n"
     ]
    }
   ],
   "source": [
    "def sum (x , y , z):\n",
    "    print(x+z)\n",
    "sum(z=10,x=5,y=1)    "
   ]
  },
  {
   "cell_type": "markdown",
   "id": "6cdb730d-127f-4eca-af45-31bf1cebabcf",
   "metadata": {},
   "source": [
    "<div style=\"background-color: #e6f7ff; border-left: 6px solid #007bff; padding: 10px; border-radius: 3px; box-shadow: 0 2px 4px rgba(0,0,0,0.1);\">\n",
    "    <strong style=\"color: #007bff;\"> Positional-Only Arguments\n",
    "</strong>\n",
    "</div>\n"
   ]
  },
  {
   "cell_type": "code",
   "execution_count": 52,
   "id": "05b5025d-a914-451b-95a6-76f45f32317d",
   "metadata": {},
   "outputs": [
    {
     "name": "stdout",
     "output_type": "stream",
     "text": [
      "3\n"
     ]
    }
   ],
   "source": [
    "def my_function(x, /):\n",
    "  print(x)\n",
    "\n",
    "my_function(3)"
   ]
  },
  {
   "cell_type": "markdown",
   "id": "ad9f23fd-fcb5-4a00-b791-17b84cee19ba",
   "metadata": {},
   "source": [
    "\n",
    "<div style=\"background-color: #e6f7ff; border-left: 6px solid #007bff; padding: 10px; border-radius: 3px; box-shadow: 0 2px 4px rgba(0,0,0,0.1);\">\n",
    "    <strong style=\"color: #007bff;\"> Keyword-Only Arguments\n",
    "</strong>\n",
    "</div>"
   ]
  },
  {
   "cell_type": "code",
   "execution_count": 53,
   "id": "fc021920-9d95-4cf3-960a-b968b0e5254c",
   "metadata": {},
   "outputs": [
    {
     "name": "stdout",
     "output_type": "stream",
     "text": [
      "3\n"
     ]
    }
   ],
   "source": [
    "def my_function(*, x):\n",
    "  print(x)\n",
    "\n",
    "my_function(x = 3)"
   ]
  },
  {
   "cell_type": "markdown",
   "id": "b45c2194-c4ea-46b9-9a15-661ede872ab3",
   "metadata": {},
   "source": [
    "<div style=\"background-color: #e6f7ff; border-left: 6px solid #007bff; padding: 10px; border-radius: 3px; box-shadow: 0 2px 4px rgba(0,0,0,0.1);\">\n",
    "    <strong style=\"color: #007bff;\"> Arbitrary Arguments\n",
    "</strong>\n",
    "</div>"
   ]
  },
  {
   "cell_type": "code",
   "execution_count": 1,
   "id": "e694ea02-6699-4826-94cd-50ce71b7a972",
   "metadata": {},
   "outputs": [
    {
     "data": {
      "text/plain": [
       "10"
      ]
     },
     "execution_count": 1,
     "metadata": {},
     "output_type": "execute_result"
    }
   ],
   "source": [
    "def addition(*args):\n",
    "    return sum(args)\n",
    "addition(1,2,3,4)"
   ]
  },
  {
   "cell_type": "markdown",
   "id": "09295708-da6c-4b79-89c4-917cb1e96ddb",
   "metadata": {},
   "source": [
    "<div style=\"background-color: #e6f7ff; border-left: 6px solid #007bff; padding: 10px; border-radius: 3px; box-shadow: 0 2px 4px rgba(0,0,0,0.1);\">\n",
    "    <strong style=\"color: #007bff;\">  Default Parameter\n",
    "</strong>\n",
    "</div>"
   ]
  },
  {
   "cell_type": "code",
   "execution_count": 3,
   "id": "7ef2b7ab-a3f4-4acd-ac50-2d3efd9d3ad0",
   "metadata": {},
   "outputs": [
    {
     "name": "stdout",
     "output_type": "stream",
     "text": [
      "I am from Sweden\n",
      "I am from Norway\n"
     ]
    }
   ],
   "source": [
    "def my_function(country = \"Norway\"):\n",
    "  print(\"I am from \" + country)\n",
    "\n",
    "my_function(\"Sweden\")\n",
    "my_function()"
   ]
  },
  {
   "cell_type": "markdown",
   "id": "c888bbd4-e285-4fa9-803e-543b5423898c",
   "metadata": {},
   "source": [
    "\n",
    "<div style=\"background-color: #e6f7ff; border-left: 6px solid #007bff; padding: 10px; border-radius: 3px; box-shadow: 0 2px 4px rgba(0,0,0,0.1);\">\n",
    "    <strong style=\"color: #007bff;\"> Lambda\n",
    "</strong>\n",
    "</div>"
   ]
  },
  {
   "cell_type": "code",
   "execution_count": 54,
   "id": "d8db9972-c9e7-4f1a-ac51-255afaa8d522",
   "metadata": {},
   "outputs": [
    {
     "data": {
      "text/plain": [
       "8"
      ]
     },
     "execution_count": 54,
     "metadata": {},
     "output_type": "execute_result"
    }
   ],
   "source": [
    "x = lambda a,b : a+b\n",
    "x(3,5)"
   ]
  }
 ],
 "metadata": {
  "kernelspec": {
   "display_name": "Python 3 (ipykernel)",
   "language": "python",
   "name": "python3"
  },
  "language_info": {
   "codemirror_mode": {
    "name": "ipython",
    "version": 3
   },
   "file_extension": ".py",
   "mimetype": "text/x-python",
   "name": "python",
   "nbconvert_exporter": "python",
   "pygments_lexer": "ipython3",
   "version": "3.11.5"
  }
 },
 "nbformat": 4,
 "nbformat_minor": 5
}
