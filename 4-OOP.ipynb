{
 "cells": [
  {
   "cell_type": "markdown",
   "id": "ec2f6b36-b099-4100-9abf-78395040de38",
   "metadata": {},
   "source": [
    "# OOP"
   ]
  },
  {
   "cell_type": "markdown",
   "id": "7ea926c8-833d-467e-91a6-71c5498b6000",
   "metadata": {},
   "source": [
    "<div style=\"background-color: #e6f7ff; border-left: 6px solid #007bff; padding: 10px; border-radius: 3px; box-shadow: 0 2px 4px rgba(0,0,0,0.1);\">\n",
    "    <strong style=\"color: #007bff;\">Classes and Objects</strong>\n",
    "</div>"
   ]
  },
  {
   "cell_type": "code",
   "execution_count": 32,
   "id": "ee2668ae-c5bf-419f-a5c2-55b8dad92b6c",
   "metadata": {},
   "outputs": [
    {
     "name": "stdout",
     "output_type": "stream",
     "text": [
      "BMW\n",
      "The car model is Mercedes ,the colour is Red and the year is 2020\n",
      "1\n",
      "Object has been destroyed\n"
     ]
    }
   ],
   "source": [
    "class Car:\n",
    "    \n",
    "# Counter\n",
    "    counter = 0\n",
    "    \n",
    "# Constructor\n",
    "    def __init__(self,model,color,year):\n",
    "        \n",
    "# Attributes \n",
    "        self.model = model\n",
    "        self.color = color \n",
    "        self.year = year\n",
    "        Car.counter+=1\n",
    "\n",
    "# Methods\n",
    "    def show(self):\n",
    "        print(f\"The car model is {self.model} ,the colour is {self.color} and the year is {self.year}\")\n",
    "    \n",
    "    def counts(cls):\n",
    "        print(cls.counter)\n",
    "\n",
    "# Destructor\n",
    "    def __del__(self):\n",
    "        print(\"Object has been destroyed\")\n",
    "\n",
    "object_1 = Car(\"BMW\",\"Red\",2020) \n",
    "print (object_1.model)\n",
    "\n",
    "object_1.model = \"Mercedes\"\n",
    "object_1.show()\n",
    "\n",
    "object_1.counts()\n",
    "\n",
    "del object_1"
   ]
  },
  {
   "cell_type": "markdown",
   "id": "6abd8763-832d-4d9a-b7b2-fae2669851b3",
   "metadata": {},
   "source": [
    "# OOP Main Conepts\n",
    "- Inheritence\n",
    "- Polymorphism\n",
    "- Encapsulation\n",
    "- Abstraction"
   ]
  },
  {
   "cell_type": "markdown",
   "id": "58f19551-ca90-4bba-b9fc-5ebd99b32e20",
   "metadata": {},
   "source": [
    "<div style=\"background-color: #e6f7ff; border-left: 6px solid #007bff; padding: 10px; border-radius: 3px; box-shadow: 0 2px 4px rgba(0,0,0,0.1);\">\n",
    "    <strong style=\"color: #007bff;\">Inheritance</strong>\n",
    "</div>"
   ]
  },
  {
   "cell_type": "code",
   "execution_count": 12,
   "id": "c35c6edc-9413-4489-a863-cb2475d0883d",
   "metadata": {},
   "outputs": [
    {
     "name": "stdout",
     "output_type": "stream",
     "text": [
      "The nationality is Egyptian and the wealth is about 200000\n"
     ]
    }
   ],
   "source": [
    "class Parent:\n",
    "    \n",
    "    def __init__(self,nationality,wealth):\n",
    "        self.nationality = nationality\n",
    "        self.wealth = wealth\n",
    "    def info(self):\n",
    "        print(f\"The nationality is {self.nationality} and the wealth is about {self.wealth}\")\n",
    "        \n",
    "class Child(Parent):\n",
    "    \n",
    "    def __init__(self,nationality,wealth):\n",
    "        super().__init__(nationality,wealth)\n",
    "\n",
    "\n",
    "\n",
    "obj = Child(\"Egyptian\",200000)\n",
    "obj.info()"
   ]
  },
  {
   "cell_type": "markdown",
   "id": "04a59bcd-b3a1-4dc6-ae5e-376df9258027",
   "metadata": {},
   "source": [
    "<div style=\"background-color: #e6f7ff; border-left: 6px solid #007bff; padding: 10px; border-radius: 3px; box-shadow: 0 2px 4px rgba(0,0,0,0.1);\">\n",
    "    <strong style=\"color: #007bff;\">Polymorphism</strong>\n",
    "</div>"
   ]
  },
  {
   "cell_type": "code",
   "execution_count": 13,
   "id": "d16f1479-c548-4e7b-8d5d-d14fce72f6e8",
   "metadata": {},
   "outputs": [
    {
     "name": "stdout",
     "output_type": "stream",
     "text": [
      "This is Class A\n",
      "This is Class B\n",
      "This is Class C\n"
     ]
    }
   ],
   "source": [
    "class A:\n",
    "    def __init__(self):\n",
    "        pass\n",
    "    def great(self):\n",
    "        print(\"This is Class A\")\n",
    "\n",
    "class B:\n",
    "    def __init__(self):\n",
    "        pass\n",
    "    def great(self):\n",
    "        print(\"This is Class B\")\n",
    "\n",
    "class C:\n",
    "    def __init__(self):\n",
    "        pass\n",
    "    def great(self):\n",
    "        print(\"This is Class C\")\n",
    "\n",
    "\n",
    "obj_A = A()\n",
    "obj_B = B()\n",
    "obj_C = C()\n",
    "\n",
    "obj_A.great()\n",
    "obj_B.great()\n",
    "obj_C.great()"
   ]
  },
  {
   "cell_type": "markdown",
   "id": "902a24c4-781d-474d-bec6-c3f2236ef658",
   "metadata": {},
   "source": [
    "<div style=\"background-color: #e6f7ff; border-left: 6px solid #007bff; padding: 10px; border-radius: 3px; box-shadow: 0 2px 4px rgba(0,0,0,0.1);\">\n",
    "    <strong style=\"color: #007bff;\">Encapsulation</strong>\n",
    "</div>"
   ]
  },
  {
   "cell_type": "code",
   "execution_count": 26,
   "id": "2fe9d1b5-4ad8-4cc5-95de-3b42532fca82",
   "metadata": {},
   "outputs": [
    {
     "name": "stdout",
     "output_type": "stream",
     "text": [
      "Mohamed\n",
      "Ahmed\n",
      "20\n",
      "10\n"
     ]
    }
   ],
   "source": [
    "class Person:\n",
    "    \n",
    "    def __init__(self,name,age):\n",
    "        self.__name = name\n",
    "        self.__age = age\n",
    "        \n",
    "    def get_name(self):\n",
    "        return self.__name\n",
    "    def set_name(self,x):\n",
    "        self.__name = x\n",
    "\n",
    "    def get_age(self):\n",
    "        return self.__age\n",
    "    def set_age(self,x):\n",
    "        if x < 15:\n",
    "            self.__age = x\n",
    "        else:\n",
    "            print(\"You are too old\")\n",
    "        \n",
    "\n",
    "obj = Person(\"Mohamed\",20)\n",
    "print(obj.get_name())\n",
    "\n",
    "obj.set_name(\"Ahmed\")\n",
    "print(obj.get_name())\n",
    "\n",
    "print(obj.get_age())\n",
    "obj.set_age(10)\n",
    "print(obj.get_age())"
   ]
  },
  {
   "cell_type": "markdown",
   "id": "1f180b5d-e75a-42ea-879f-6ea5c8aa5a9e",
   "metadata": {},
   "source": [
    "<div style=\"background-color: #e6f7ff; border-left: 6px solid #007bff; padding: 10px; border-radius: 3px; box-shadow: 0 2px 4px rgba(0,0,0,0.1);\">\n",
    "    <strong style=\"color: #007bff;\">Abstraction</strong>\n",
    "</div>"
   ]
  },
  {
   "cell_type": "code",
   "execution_count": 27,
   "id": "4fd1a3ef-4efd-4bcd-851e-410e38d59a17",
   "metadata": {},
   "outputs": [
    {
     "name": "stdout",
     "output_type": "stream",
     "text": [
      "Woof\n",
      "Meow\n"
     ]
    }
   ],
   "source": [
    "from abc import ABC, abstractmethod\n",
    "\n",
    "class Animal(ABC):\n",
    "    @abstractmethod\n",
    "    def make_sound(self):\n",
    "        pass\n",
    "\n",
    "class Dog(Animal):\n",
    "    def make_sound(self):\n",
    "        return \"Woof\"\n",
    "\n",
    "class Cat(Animal):\n",
    "    def make_sound(self):\n",
    "        return \"Meow\"\n",
    "\n",
    "# Usage\n",
    "dog = Dog()\n",
    "cat = Cat()\n",
    "print(dog.make_sound())  # Woof\n",
    "print(cat.make_sound())  # Meow"
   ]
  },
  {
   "cell_type": "code",
   "execution_count": null,
   "id": "c9618ce3-199d-41b6-90e5-d84a68282c59",
   "metadata": {},
   "outputs": [],
   "source": []
  }
 ],
 "metadata": {
  "kernelspec": {
   "display_name": "Python 3 (ipykernel)",
   "language": "python",
   "name": "python3"
  },
  "language_info": {
   "codemirror_mode": {
    "name": "ipython",
    "version": 3
   },
   "file_extension": ".py",
   "mimetype": "text/x-python",
   "name": "python",
   "nbconvert_exporter": "python",
   "pygments_lexer": "ipython3",
   "version": "3.11.5"
  }
 },
 "nbformat": 4,
 "nbformat_minor": 5
}
